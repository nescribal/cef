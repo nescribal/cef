{
  "nbformat": 4,
  "nbformat_minor": 0,
  "metadata": {
    "colab": {
      "name": "validation_techniques.ipynb",
      "provenance": [],
      "authorship_tag": "ABX9TyOFMxYLlbNnq6SH4JYRfdM8",
      "include_colab_link": true
    },
    "kernelspec": {
      "name": "python3",
      "display_name": "Python 3"
    }
  },
  "cells": [
    {
      "cell_type": "markdown",
      "metadata": {
        "id": "view-in-github",
        "colab_type": "text"
      },
      "source": [
        "<a href=\"https://colab.research.google.com/github/nescribal/cef/blob/master/validation_techniques.ipynb\" target=\"_parent\"><img src=\"https://colab.research.google.com/assets/colab-badge.svg\" alt=\"Open In Colab\"/></a>"
      ]
    },
    {
      "cell_type": "markdown",
      "metadata": {
        "id": "IJb6KUeRiq2A",
        "colab_type": "text"
      },
      "source": [
        "Hold-out validation"
      ]
    },
    {
      "cell_type": "code",
      "metadata": {
        "id": "7TdIkhJTimYr",
        "colab_type": "code",
        "colab": {}
      },
      "source": [
        "num_validation_samples = 10000\n",
        "\n",
        "np.random.shuffle(data)\n",
        "\n",
        "validation_data = data[:num_validation_samples]\n",
        "data = data[num_validation_samples:]\n",
        "\n",
        "training_data = data[:]\n",
        "\n",
        "model = get_model()\n",
        "model.train(training_data)\n",
        "validation_score = model.evaluate(validation_data)\n",
        "\n",
        "#At this point tune model, retrain ir, evaluate it, tune it again ...\n",
        "\n",
        "model = get_model()\n",
        "model.train(np.concatenate([training_data, validation_data]))\n",
        "\n",
        "test_score = model.evaluate(test_data)"
      ],
      "execution_count": null,
      "outputs": []
    }
  ]
}